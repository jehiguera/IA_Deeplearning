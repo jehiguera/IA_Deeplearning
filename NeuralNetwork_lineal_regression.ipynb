{
  "metadata": {
    "language_info": {
      "codemirror_mode": {
        "name": "python",
        "version": 3
      },
      "file_extension": ".py",
      "mimetype": "text/x-python",
      "name": "python",
      "nbconvert_exporter": "python",
      "pygments_lexer": "ipython3",
      "version": "3.8"
    },
    "kernelspec": {
      "name": "python",
      "display_name": "Python (Pyodide)",
      "language": "python"
    }
  },
  "nbformat_minor": 4,
  "nbformat": 4,
  "cells": [
    {
      "cell_type": "code",
      "source": "import pandas as pd\nimport matplotlib.pyplot as plt\nimport numpy as np\ndf = pd.read_csv(r'Accidentes.csv')\nprint (df)",
      "metadata": {
        "trusted": true
      },
      "execution_count": 1,
      "outputs": [
        {
          "name": "stdout",
          "text": "       Localidad  Habitantes  Num. Accidentes\n0    Localidad 1        5268               75\n1    Localidad 2       10657              124\n2    Localidad 3        7500               94\n3    Localidad 4       13578              147\n4    Localidad 5       22356              287\n5    Localidad 6        8678              101\n6    Localidad 7       34687              358\n7    Localidad 8       18368              167\n8    Localidad 9       76248             1200\n9   Localidad 10       56874              580\n10  Localidad 11       45000              677\n11  Localidad 12       59000              873\n12  Localidad 13       50000             1025\n13  Localidad 14       61125              370\n14  Localidad 15       74826             2630\n",
          "output_type": "stream"
        }
      ]
    },
    {
      "cell_type": "code",
      "source": "x=df['Habitantes']",
      "metadata": {
        "trusted": true
      },
      "execution_count": 2,
      "outputs": []
    },
    {
      "cell_type": "code",
      "source": "print(x)",
      "metadata": {
        "trusted": true
      },
      "execution_count": 3,
      "outputs": [
        {
          "name": "stdout",
          "text": "0      5268\n1     10657\n2      7500\n3     13578\n4     22356\n5      8678\n6     34687\n7     18368\n8     76248\n9     56874\n10    45000\n11    59000\n12    50000\n13    61125\n14    74826\nName: Habitantes, dtype: int64\n",
          "output_type": "stream"
        }
      ]
    },
    {
      "cell_type": "code",
      "source": "y=df['Num. Accidentes']\nprint(y)",
      "metadata": {
        "trusted": true
      },
      "execution_count": 4,
      "outputs": [
        {
          "name": "stdout",
          "text": "0       75\n1      124\n2       94\n3      147\n4      287\n5      101\n6      358\n7      167\n8     1200\n9      580\n10     677\n11     873\n12    1025\n13     370\n14    2630\nName: Num. Accidentes, dtype: int64\n",
          "output_type": "stream"
        }
      ]
    },
    {
      "cell_type": "code",
      "source": "myfigura = plt.scatter(x,y,label='data', color='blue')",
      "metadata": {
        "trusted": true
      },
      "execution_count": 5,
      "outputs": []
    },
    {
      "cell_type": "code",
      "source": "myfigura",
      "metadata": {
        "trusted": true
      },
      "execution_count": 6,
      "outputs": [
        {
          "execution_count": 6,
          "output_type": "execute_result",
          "data": {
            "text/plain": "<matplotlib.collections.PathCollection at 0x41514c8>"
          },
          "metadata": {}
        }
      ]
    },
    {
      "cell_type": "code",
      "source": "plt.show()",
      "metadata": {
        "trusted": true
      },
      "execution_count": 7,
      "outputs": [
        {
          "output_type": "display_data",
          "data": {
            "text/plain": "<pyolite.display.Image at 0x3c5d4e8>",
            "image/png": "[encoded data removed]"
          },
          "metadata": {}
        }
      ]
    },
    {
      "cell_type": "code",
      "source": "#Requiere de instalar con pip install scikit-Learn\nfrom sklearn.linear_model import LinearRegression\nregresion_lineal = LinearRegression()\n#vamos a pasar la funcion de regresion lineal los valores de x y de y . Reshape es el remodelado iniciando en -1 hasta 1\nregresion_lineal.fit(x.values.reshape(-1,1), y)\n#avriguar la pendiente y la interseccion\nprint(\"a (pendiente) =\"+str(regresion_lineal.coef_))\nprint(\"b (interseccion) =\"+str(regresion_lineal.intercept_))",
      "metadata": {
        "trusted": true
      },
      "execution_count": 8,
      "outputs": [
        {
          "name": "stdout",
          "text": "a (pendiente) =[0.0205993]\nb (interseccion) =-166.7613210577324\n",
          "output_type": "stream"
        }
      ]
    },
    {
      "cell_type": "code",
      "source": "#vamos a predecir el numero de accidentes en una poblacion de 50000 habitantes\nnueva_x = np.array([50000])\nprediccion = regresion_lineal.predict(nueva_x.reshape(-1,1))\nprint(\"El numero de accidentes con 50000 habitantes es \"+str(prediccion))",
      "metadata": {
        "trusted": true
      },
      "execution_count": 9,
      "outputs": [
        {
          "name": "stdout",
          "text": "El numero de accidentes con 50000 habitantes es [863.20383803]\n",
          "output_type": "stream"
        }
      ]
    },
    {
      "cell_type": "code",
      "source": "#Vamos a predecir el numero de accidentes en una poblacion de 126529 habitantes\nnueva_x = np.array([126529])\nprediccion = regresion_lineal.predict(nueva_x.reshape(-1,1))\nprint(\"El numero de accidentes con 126529 habitantes es \"+str(prediccion))",
      "metadata": {
        "trusted": true
      },
      "execution_count": 15,
      "outputs": [
        {
          "name": "stdout",
          "text": "El numero de accidentes con 126529 habitantes es [2439.64791122]\n",
          "output_type": "stream"
        }
      ]
    },
    {
      "cell_type": "code",
      "source": "#ver los tres ultmos registros del dataframe\ndf.tail(3)",
      "metadata": {
        "trusted": true
      },
      "execution_count": 16,
      "outputs": [
        {
          "execution_count": 16,
          "output_type": "execute_result",
          "data": {
            "text/plain": "       Localidad  Habitantes  Num. Accidentes\n12  Localidad 13       50000             1025\n13  Localidad 14       61125              370\n14  Localidad 15       74826             2630",
            "text/html": "<div>\n<style scoped>\n    .dataframe tbody tr th:only-of-type {\n        vertical-align: middle;\n    }\n\n    .dataframe tbody tr th {\n        vertical-align: top;\n    }\n\n    .dataframe thead th {\n        text-align: right;\n    }\n</style>\n<table border=\"1\" class=\"dataframe\">\n  <thead>\n    <tr style=\"text-align: right;\">\n      <th></th>\n      <th>Localidad</th>\n      <th>Habitantes</th>\n      <th>Num. Accidentes</th>\n    </tr>\n  </thead>\n  <tbody>\n    <tr>\n      <th>12</th>\n      <td>Localidad 13</td>\n      <td>50000</td>\n      <td>1025</td>\n    </tr>\n    <tr>\n      <th>13</th>\n      <td>Localidad 14</td>\n      <td>61125</td>\n      <td>370</td>\n    </tr>\n    <tr>\n      <th>14</th>\n      <td>Localidad 15</td>\n      <td>74826</td>\n      <td>2630</td>\n    </tr>\n  </tbody>\n</table>\n</div>"
          },
          "metadata": {}
        }
      ]
    },
    {
      "cell_type": "code",
      "source": "#De la libreria scikit-Learn agregramos la libreria metrics para ver el coeficiente R2 agregar linea de tendencia, \nfrom sklearn.metrics import r2_score\n\n#Imprimir grafico\nplt.plot(x,y,\".\", color = 'blue', ms=10, mec=\"k\")\n\n#calcular los valores de la pendiente y la interseccion para el grafico\nz = np.polyfit(x,y,1)\ny_hat=np.poly1d(z)(x)",
      "metadata": {
        "trusted": true
      },
      "execution_count": 17,
      "outputs": []
    },
    {
      "cell_type": "code",
      "source": "#dibujo la linea de tendencia\nplt.plot(x,y_hat,\"r--\",lw=1)\n\nprint(str(r2_score(x,y_hat)))",
      "metadata": {
        "trusted": true
      },
      "execution_count": 18,
      "outputs": [
        {
          "name": "stdout",
          "text": "-2.049091888570236\n",
          "output_type": "stream"
        }
      ]
    },
    {
      "cell_type": "code",
      "source": "plt.show()",
      "metadata": {
        "trusted": true
      },
      "execution_count": 19,
      "outputs": [
        {
          "output_type": "display_data",
          "data": {
            "text/plain": "<pyolite.display.Image at 0x513ac90>",
            "image/png": "[encoded data removed]"
          },
          "metadata": {}
        }
      ]
    },
    {
      "cell_type": "code",
      "source": "",
      "metadata": {},
      "execution_count": null,
      "outputs": []
    }
  ]
}